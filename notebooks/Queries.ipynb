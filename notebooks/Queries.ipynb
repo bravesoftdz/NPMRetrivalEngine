{
 "cells": [
  {
   "cell_type": "code",
   "execution_count": 1,
   "metadata": {
    "collapsed": true
   },
   "outputs": [],
   "source": [
    "import pandas as pd\n",
    "import numpy as np\n",
    "import matplotlib.pyplot as pl\n",
    "import seaborn as sns\n",
    "from scipy.interpolate import spline"
   ]
  },
  {
   "cell_type": "code",
   "execution_count": 2,
   "metadata": {
    "collapsed": true
   },
   "outputs": [],
   "source": [
    "q = np.array(['send sms',\n",
    "'quick sort algorithm',\n",
    "'filter adult content images',\n",
    "'user authentication',\n",
    "'extract barcode from image',\n",
    "'convert data formats',\n",
    "'convert typewritten image to text',\n",
    "'download free music',\n",
    "'download web videos',\n",
    "'check valid email address',\n",
    "'detect text language',\n",
    "'sentiment analysis',\n",
    "'third party authentication',\n",
    "'convert text to speech',\n",
    "'calculate word similarity',\n",
    "'translate english to spanish',\n",
    "'credit card validation',\n",
    "'health tracker',\n",
    "'rank aggregation algorithms',\n",
    "'mobilie app framework',\n",
    "'DOM manipulation utils',\n",
    "'lightweight 3D graphic library',\n",
    "'mathematical functions',\n",
    "'scraper',\n",
    "'captcha authentication'])"
   ]
  },
  {
   "cell_type": "code",
   "execution_count": 3,
   "metadata": {},
   "outputs": [
    {
     "data": {
      "text/html": [
       "<div>\n",
       "<style>\n",
       "    .dataframe thead tr:only-child th {\n",
       "        text-align: right;\n",
       "    }\n",
       "\n",
       "    .dataframe thead th {\n",
       "        text-align: left;\n",
       "    }\n",
       "\n",
       "    .dataframe tbody tr th {\n",
       "        vertical-align: top;\n",
       "    }\n",
       "</style>\n",
       "<table border=\"1\" class=\"dataframe\">\n",
       "  <thead>\n",
       "    <tr style=\"text-align: right;\">\n",
       "      <th></th>\n",
       "      <th>#queries</th>\n",
       "    </tr>\n",
       "    <tr>\n",
       "      <th>Words</th>\n",
       "      <th></th>\n",
       "    </tr>\n",
       "  </thead>\n",
       "  <tbody>\n",
       "    <tr>\n",
       "      <th>1</th>\n",
       "      <td>1</td>\n",
       "    </tr>\n",
       "    <tr>\n",
       "      <th>2</th>\n",
       "      <td>6</td>\n",
       "    </tr>\n",
       "    <tr>\n",
       "      <th>3</th>\n",
       "      <td>11</td>\n",
       "    </tr>\n",
       "    <tr>\n",
       "      <th>4</th>\n",
       "      <td>6</td>\n",
       "    </tr>\n",
       "    <tr>\n",
       "      <th>5</th>\n",
       "      <td>1</td>\n",
       "    </tr>\n",
       "  </tbody>\n",
       "</table>\n",
       "</div>"
      ],
      "text/plain": [
       "       #queries\n",
       "Words          \n",
       "1             1\n",
       "2             6\n",
       "3            11\n",
       "4             6\n",
       "5             1"
      ]
     },
     "execution_count": 3,
     "metadata": {},
     "output_type": "execute_result"
    }
   ],
   "source": [
    "df = pd.DataFrame(q,columns = [\"Queries\"])\n",
    "df['Words'] = df.apply(\n",
    "    lambda x: len(x[\"Queries\"].split()), axis=1)\n",
    "\n",
    "\n",
    "count =  pd.DataFrame(df.groupby('Words').Words.count())\n",
    "count.columns = [\"#queries\"]\n",
    "count\n"
   ]
  },
  {
   "cell_type": "code",
   "execution_count": 4,
   "metadata": {},
   "outputs": [
    {
     "name": "stderr",
     "output_type": "stream",
     "text": [
      "C:\\Users\\Hernan\\Anaconda3\\lib\\site-packages\\ipykernel_launcher.py:3: DeprecationWarning: `spline` is deprecated!\n",
      "spline is deprecated in scipy 0.19.0, use Bspline class instead.\n",
      "  This is separate from the ipykernel package so we can avoid doing imports until\n"
     ]
    },
    {
     "data": {
      "image/png": "[encoded data removed]",
      "text/plain": [
       "<matplotlib.figure.Figure at 0x1ee84bde828>"
      ]
     },
     "metadata": {},
     "output_type": "display_data"
    }
   ],
   "source": [
    "k = count.index.tolist()    \n",
    "k_smooth = np.linspace(min(k),max(k),200)\n",
    "s_smooth = spline(k,count['#queries'].tolist(),k_smooth)\n",
    "pl.xticks(np.arange(k_smooth.min(), k_smooth.max()+1, 1))\n",
    "pl.xlim(xmin=1)\n",
    "pl.plot(k_smooth, s_smooth)\n",
    "\n",
    "pl.xlabel('# words')\n",
    "pl.ylabel('# queries')\n",
    "#pl.ylim([0.0, 21.05])\n",
    "# pl.xlim([1, 20])\n",
    "pl.title('query distribution')\n",
    "pl.savefig(\"img/querydistribution.pdf\",  bbox_inches='tight', pad_inches=0.1)\n",
    "pl.show()"
   ]
  },
  {
   "cell_type": "code",
   "execution_count": null,
   "metadata": {
    "collapsed": true
   },
   "outputs": [],
   "source": []
  },
  {
   "cell_type": "code",
   "execution_count": null,
   "metadata": {
    "collapsed": true
   },
   "outputs": [],
   "source": []
  }
 ],
 "metadata": {
  "kernelspec": {
   "display_name": "Python 3",
   "language": "python",
   "name": "python3"
  },
  "language_info": {
   "codemirror_mode": {
    "name": "ipython",
    "version": 3
   },
   "file_extension": ".py",
   "mimetype": "text/x-python",
   "name": "python",
   "nbconvert_exporter": "python",
   "pygments_lexer": "ipython3",
   "version": "3.6.2"
  }
 },
 "nbformat": 4,
 "nbformat_minor": 2
}
